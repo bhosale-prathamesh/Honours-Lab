{
 "cells": [
  {
   "cell_type": "code",
   "execution_count": 2,
   "metadata": {},
   "outputs": [],
   "source": [
    "X = [(-1,-1),(-1,1),(1,-1),(1,1)]\n",
    "y = [-1,-1,-1,1]"
   ]
  },
  {
   "cell_type": "code",
   "execution_count": 3,
   "metadata": {},
   "outputs": [],
   "source": [
    "class net:\n",
    "\n",
    "    def __init__(self):\n",
    "        self.w1 = 0\n",
    "        self.w2 = 0\n",
    "        self.b = 0\n",
    "    \n",
    "    def predict(self,x):\n",
    "        s = self.w1 * x[0] + self.w2 * x[1] + self.b\n",
    "        y_pred = 1 if s >= 0 else -1\n",
    "        return y_pred"
   ]
  },
  {
   "cell_type": "code",
   "execution_count": 4,
   "metadata": {},
   "outputs": [],
   "source": [
    "def hebnet(X,y):\n",
    "    n = net()\n",
    "    \n",
    "    for i in range(4):\n",
    "        features = X[i]\n",
    "        expected = y[i]\n",
    "\n",
    "        n.w1 += expected * features[0]\n",
    "        n.w2 += expected * features[1]\n",
    "        n.b += expected\n",
    "    \n",
    "    for i, j in zip(X, y):\n",
    "        predicted = n.predict(i)\n",
    "        print(i, ' = ', predicted, end = ' ')\n",
    "        print('(correct)') if predicted == j else print('(wrong)')\n",
    "    \n",
    "    print(\"w1\",n.w1)\n",
    "    print(\"w2\",n.w2)\n",
    "    print(\"b\",n.b)"
   ]
  },
  {
   "cell_type": "code",
   "execution_count": 5,
   "metadata": {},
   "outputs": [
    {
     "name": "stdout",
     "output_type": "stream",
     "text": [
      "(-1, -1)  =  -1 (correct)\n",
      "(-1, 1)  =  -1 (correct)\n",
      "(1, -1)  =  -1 (correct)\n",
      "(1, 1)  =  1 (correct)\n",
      "w1 2\n",
      "w2 2\n",
      "b -2\n"
     ]
    }
   ],
   "source": [
    "hebnet(X,y)"
   ]
  }
 ],
 "metadata": {
  "kernelspec": {
   "display_name": "Python 3.8.10 64-bit",
   "language": "python",
   "name": "python3"
  },
  "language_info": {
   "codemirror_mode": {
    "name": "ipython",
    "version": 3
   },
   "file_extension": ".py",
   "mimetype": "text/x-python",
   "name": "python",
   "nbconvert_exporter": "python",
   "pygments_lexer": "ipython3",
   "version": "3.8.10"
  },
  "orig_nbformat": 4,
  "vscode": {
   "interpreter": {
    "hash": "ff0d91300876931207232d01add3156fa7c8214350996c757a3c6cebc4b3b5d5"
   }
  }
 },
 "nbformat": 4,
 "nbformat_minor": 2
}
